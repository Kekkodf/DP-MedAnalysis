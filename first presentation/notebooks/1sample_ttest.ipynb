{
 "cells": [
  {
   "cell_type": "code",
   "execution_count": 5,
   "id": "24e494d0",
   "metadata": {},
   "outputs": [],
   "source": [
    "import pandas as pd\n",
    "import numpy as np\n",
    "import scipy.stats as stats "
   ]
  },
  {
   "cell_type": "code",
   "execution_count": 2,
   "id": "cbbb475e",
   "metadata": {},
   "outputs": [
    {
     "name": "stdout",
     "output_type": "stream",
     "text": [
      "<class 'pandas.core.frame.DataFrame'>\n",
      "RangeIndex: 2241 entries, 0 to 2240\n",
      "Data columns (total 15 columns):\n",
      " #   Column                           Non-Null Count  Dtype  \n",
      "---  ------                           --------------  -----  \n",
      " 0   Patient ID                       2241 non-null   object \n",
      " 1   Mutation Count                   2241 non-null   float64\n",
      " 2   BM Blast (%)                     2241 non-null   float64\n",
      " 3   Hemoglobin (g/dL)                2241 non-null   float64\n",
      " 4   Overall Survival (Months)        2241 non-null   float64\n",
      " 5   Overall Survival Status          2241 non-null   object \n",
      " 6   Platelet (G/L)                   2241 non-null   float64\n",
      " 7   Sex                              2241 non-null   object \n",
      " 8   WHO 2016 Classification          2241 non-null   object \n",
      " 9   Absolute Neutrophil Count (G/L)  2241 non-null   float64\n",
      " 10  Monocyte Count (G/L)             2241 non-null   float64\n",
      " 11  PB Blast (%)                     2241 non-null   float64\n",
      " 12  TMB (nonsynonymous)              2241 non-null   float64\n",
      " 13  White Blood Cell Count (G/L)     2241 non-null   float64\n",
      " 14  Age in years                     2241 non-null   float64\n",
      "dtypes: float64(11), object(4)\n",
      "memory usage: 262.7+ KB\n"
     ]
    }
   ],
   "source": [
    "df = pd.read_csv(\"../data/BernardEtAl.csv\")\n",
    "df.info()"
   ]
  },
  {
   "cell_type": "code",
   "execution_count": 4,
   "id": "ee98dc80",
   "metadata": {},
   "outputs": [
    {
     "data": {
      "text/plain": [
       "29.555988337061617"
      ]
     },
     "execution_count": 4,
     "metadata": {},
     "output_type": "execute_result"
    }
   ],
   "source": [
    "np.mean(df[\"Overall Survival (Months)\"])"
   ]
  },
  {
   "cell_type": "code",
   "execution_count": 3,
   "id": "7d025cc7",
   "metadata": {},
   "outputs": [
    {
     "name": "stdout",
     "output_type": "stream",
     "text": [
      "<class 'pandas.core.frame.DataFrame'>\n",
      "Int64Index: 200 entries, 453 to 2078\n",
      "Data columns (total 15 columns):\n",
      " #   Column                           Non-Null Count  Dtype  \n",
      "---  ------                           --------------  -----  \n",
      " 0   Patient ID                       200 non-null    object \n",
      " 1   Mutation Count                   200 non-null    float64\n",
      " 2   BM Blast (%)                     200 non-null    float64\n",
      " 3   Hemoglobin (g/dL)                200 non-null    float64\n",
      " 4   Overall Survival (Months)        200 non-null    float64\n",
      " 5   Overall Survival Status          200 non-null    object \n",
      " 6   Platelet (G/L)                   200 non-null    float64\n",
      " 7   Sex                              200 non-null    object \n",
      " 8   WHO 2016 Classification          200 non-null    object \n",
      " 9   Absolute Neutrophil Count (G/L)  200 non-null    float64\n",
      " 10  Monocyte Count (G/L)             200 non-null    float64\n",
      " 11  PB Blast (%)                     200 non-null    float64\n",
      " 12  TMB (nonsynonymous)              200 non-null    float64\n",
      " 13  White Blood Cell Count (G/L)     200 non-null    float64\n",
      " 14  Age in years                     200 non-null    float64\n",
      "dtypes: float64(11), object(4)\n",
      "memory usage: 25.0+ KB\n"
     ]
    }
   ],
   "source": [
    "sample = df.sample(n=200, random_state=33)\n",
    "sample.info()"
   ]
  },
  {
   "cell_type": "code",
   "execution_count": 6,
   "id": "26e23619",
   "metadata": {},
   "outputs": [
    {
     "name": "stdout",
     "output_type": "stream",
     "text": [
      "-1.2439631918159244 0.2149764002456917\n"
     ]
    }
   ],
   "source": [
    "# perform one sample t-test \n",
    "t_statistic, p_value = stats.ttest_1samp(a=sample[\"Overall Survival (Months)\"], \n",
    "                                         popmean=np.mean(df[\"Overall Survival (Months)\"])) \n",
    "print(t_statistic , p_value)"
   ]
  },
  {
   "cell_type": "code",
   "execution_count": null,
   "id": "d3092975",
   "metadata": {},
   "outputs": [],
   "source": []
  },
  {
   "cell_type": "code",
   "execution_count": null,
   "id": "8ba6361c",
   "metadata": {},
   "outputs": [],
   "source": []
  }
 ],
 "metadata": {
  "kernelspec": {
   "display_name": "Python 3 (ipykernel)",
   "language": "python",
   "name": "python3"
  },
  "language_info": {
   "codemirror_mode": {
    "name": "ipython",
    "version": 3
   },
   "file_extension": ".py",
   "mimetype": "text/x-python",
   "name": "python",
   "nbconvert_exporter": "python",
   "pygments_lexer": "ipython3",
   "version": "3.9.12"
  }
 },
 "nbformat": 4,
 "nbformat_minor": 5
}
